{
 "cells": [
  {
   "cell_type": "markdown",
   "id": "3b144c5a",
   "metadata": {},
   "source": [
    "# Data Example\n",
    "This notebook illustrates the type of data U-Net uses for training and testing. Specifically, we will demonstrate the [intended uses-case](#intended-use-case) and how U-Net handles some [exceptions](#exceptions).\n",
    "\n",
    "If you want to run this jupyter notebook interactively make sure to first activate the virtual environment you [installed](https://github.com/CSDGroup/cell_segmentation#installation) `cellseg`. You will have to manually `pip install jupyterlab` in your terminal and check out [the documentation](https://docs.jupyter.org/en/latest/) on how to use it."
   ]
  },
  {
   "cell_type": "markdown",
   "id": "c4eb7110",
   "metadata": {},
   "source": [
    "## Intended use-case\n",
    "U-Net is currently intended for single-class semantic segmentation. Input images are expected to be 8-bit or 16-bit greyscale images. Segmentation masks are expected to decode background as 0 intensity and all intensities >0 are converted to a single intensity value (255). Consequently, different instances of a class (instance segmentation) or multi-class segmentations are handled as single-class segmentations."
   ]
  },
  {
   "cell_type": "code",
   "execution_count": 8,
   "id": "a17410a3",
   "metadata": {},
   "outputs": [
    {
     "name": "stdout",
     "output_type": "stream",
     "text": [
      "Collecting pooch\n",
      "  Using cached pooch-1.7.0-py3-none-any.whl (60 kB)\n",
      "Requirement already satisfied: requests>=2.19.0 in /Users/schidani/.pyenv/versions/3.8.6/envs/cellseg/lib/python3.8/site-packages (from pooch) (2.28.0)\n",
      "Requirement already satisfied: platformdirs>=2.5.0 in /Users/schidani/.pyenv/versions/3.8.6/envs/cellseg/lib/python3.8/site-packages (from pooch) (2.6.2)\n",
      "Requirement already satisfied: packaging>=20.0 in /Users/schidani/.pyenv/versions/3.8.6/envs/cellseg/lib/python3.8/site-packages (from pooch) (23.0)\n",
      "Requirement already satisfied: certifi>=2017.4.17 in /Users/schidani/.pyenv/versions/3.8.6/envs/cellseg/lib/python3.8/site-packages (from requests>=2.19.0->pooch) (2022.6.15)\n",
      "Requirement already satisfied: idna<4,>=2.5 in /Users/schidani/.pyenv/versions/3.8.6/envs/cellseg/lib/python3.8/site-packages (from requests>=2.19.0->pooch) (3.3)\n",
      "Requirement already satisfied: urllib3<1.27,>=1.21.1 in /Users/schidani/.pyenv/versions/3.8.6/envs/cellseg/lib/python3.8/site-packages (from requests>=2.19.0->pooch) (1.26.9)\n",
      "Requirement already satisfied: charset-normalizer~=2.0.0 in /Users/schidani/.pyenv/versions/3.8.6/envs/cellseg/lib/python3.8/site-packages (from requests>=2.19.0->pooch) (2.0.12)\n",
      "Installing collected packages: pooch\n",
      "Successfully installed pooch-1.7.0\n"
     ]
    }
   ],
   "source": [
    "# install pooch if necessary\n",
    "!pip install pooch"
   ]
  },
  {
   "cell_type": "code",
   "execution_count": 20,
   "id": "c2701431",
   "metadata": {},
   "outputs": [
    {
     "name": "stdout",
     "output_type": "stream",
     "text": [
      "/Users/schidani/Library/Caches/pooch/e2a1eee5e166fa3680faa3825080950f-cellseg.png\n"
     ]
    }
   ],
   "source": [
    "import os\n",
    "import pooch\n",
    "\n",
    "import matplotlib.pyplot as plt\n",
    "\n",
    "from skimage import io\n",
    "\n",
    "# download sample data\n",
    "img_path = pooch.retrieve(\n",
    "    url='https://github.com/CSDGroup/cell_segmentation/blob/main/images/cellseg.png',\n",
    "    known_hash='sha256:2ca60a8290679008f478894004f917452d7d771801480232d4f4ab6360757c05',\n",
    ")\n",
    "\n",
    "print(img_path)\n",
    "\n",
    "#img = io.imread(img_path)\n",
    "\n",
    "# Show the segmentation\n",
    "#fig, axes = plt.subplots(\n",
    "#    nrows=1,\n",
    "#    ncols=2,\n",
    "#    figsize=(9, 5),\n",
    "#    sharex=True,\n",
    "#    sharey=True,\n",
    "#)\n",
    "\n",
    "#axes[0].imshow(img, cmap=\"Greys_r\")\n",
    "#axes[0].set_title(\"input (e.g. bright field image)\")\n",
    "\n",
    "#axes[1].imshow(coins, cmap='Greys_r')\n",
    "#axes[1].set_title(\"segmentation mask\")\n",
    "\n",
    "#for a in axes:\n",
    "#    a.axis(\"off\")\n",
    "#fig.tight_layout()\n",
    "#plt.show()"
   ]
  },
  {
   "cell_type": "markdown",
   "id": "2c94388a",
   "metadata": {},
   "source": [
    "## Exceptions\n",
    "U-Net internally manages some exceptions by converting them to the intended use-case. The exceptions that U-Net can handle are multi-class semantic segmentation masks or instance segmentations masks. Below we demonstrate how output of the data object that internally handles data looks like."
   ]
  },
  {
   "cell_type": "code",
   "execution_count": null,
   "id": "fc3040f0",
   "metadata": {},
   "outputs": [],
   "source": []
  }
 ],
 "metadata": {
  "kernelspec": {
   "display_name": "Python 3 (ipykernel)",
   "language": "python",
   "name": "python3"
  },
  "language_info": {
   "codemirror_mode": {
    "name": "ipython",
    "version": 3
   },
   "file_extension": ".py",
   "mimetype": "text/x-python",
   "name": "python",
   "nbconvert_exporter": "python",
   "pygments_lexer": "ipython3",
   "version": "3.8.6"
  }
 },
 "nbformat": 4,
 "nbformat_minor": 5
}
